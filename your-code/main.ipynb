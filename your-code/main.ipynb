{
 "cells": [
  {
   "cell_type": "markdown",
   "metadata": {},
   "source": [
    "## Words"
   ]
  },
  {
   "cell_type": "code",
   "execution_count": 4,
   "metadata": {},
   "outputs": [],
   "source": [
    "words = ['play', 'filling', 'bar', 'theatre', 'easygoing', 'date', 'lead', 'that', 'story',  'island']"
   ]
  },
  {
   "cell_type": "markdown",
   "metadata": {},
   "source": [
    "**Print every word in upper case**"
   ]
  },
  {
   "cell_type": "code",
   "execution_count": 51,
   "metadata": {},
   "outputs": [
    {
     "data": {
      "text/plain": [
       "['PLAY',\n",
       " 'FILLING',\n",
       " 'BAR',\n",
       " 'THEATRE',\n",
       " 'EASYGOING',\n",
       " 'DATE',\n",
       " 'LEAD',\n",
       " 'THAT',\n",
       " 'STORY',\n",
       " 'ISLAND']"
      ]
     },
     "execution_count": 51,
     "metadata": {},
     "output_type": "execute_result"
    }
   ],
   "source": [
    "[x.upper() for x in words]"
   ]
  },
  {
   "cell_type": "code",
   "execution_count": 50,
   "metadata": {},
   "outputs": [
    {
     "name": "stdout",
     "output_type": "stream",
     "text": [
      "Play\n",
      "Filling\n",
      "Bar\n",
      "Theatre\n",
      "Easygoing\n",
      "Date\n",
      "Lead\n",
      "That\n",
      "Story\n",
      "Island\n"
     ]
    }
   ],
   "source": [
    "for i in words:\n",
    "    print(i.capitalize())"
   ]
  },
  {
   "cell_type": "markdown",
   "metadata": {},
   "source": [
    "**Create a new list containing only words with 5 or more letters**"
   ]
  },
  {
   "cell_type": "code",
   "execution_count": 46,
   "metadata": {},
   "outputs": [
    {
     "name": "stdout",
     "output_type": "stream",
     "text": [
      "['filling', 'theatre', 'easygoing', 'island']\n"
     ]
    }
   ],
   "source": [
    "new_words = []\n",
    "for i in words:\n",
    "    if i[5:]:\n",
    "        new_words.append(i)\n",
    "\n",
    "print(new_words) "
   ]
  },
  {
   "cell_type": "markdown",
   "metadata": {},
   "source": [
    "**Print the first word starting with \"t\"**"
   ]
  },
  {
   "cell_type": "code",
   "execution_count": 48,
   "metadata": {},
   "outputs": [
    {
     "name": "stdout",
     "output_type": "stream",
     "text": [
      "theatre\n"
     ]
    }
   ],
   "source": [
    "for i in words:\n",
    "    if i.startswith(\"t\"):\n",
    "        print(i)\n",
    "        break"
   ]
  },
  {
   "cell_type": "code",
   "execution_count": 49,
   "metadata": {},
   "outputs": [
    {
     "name": "stdout",
     "output_type": "stream",
     "text": [
      "theatre\n"
     ]
    }
   ],
   "source": [
    "for i in words:\n",
    "    if i[0] == \"t\":\n",
    "        print(i)\n",
    "        break\n",
    "    "
   ]
  },
  {
   "cell_type": "markdown",
   "metadata": {},
   "source": [
    "## Numbers"
   ]
  },
  {
   "cell_type": "markdown",
   "metadata": {},
   "source": [
    "**Create a list containing the square of every number from 1 to 10**"
   ]
  },
  {
   "cell_type": "code",
   "execution_count": 52,
   "metadata": {},
   "outputs": [
    {
     "data": {
      "text/plain": [
       "[1, 4, 9, 16, 25, 36, 49, 64, 81, 100]"
      ]
     },
     "execution_count": 52,
     "metadata": {},
     "output_type": "execute_result"
    }
   ],
   "source": [
    "new_list = []\n",
    "for i in range(1,11):\n",
    "    new_list.append(i*i)\n",
    "new_list"
   ]
  },
  {
   "cell_type": "code",
   "execution_count": 12,
   "metadata": {},
   "outputs": [
    {
     "data": {
      "text/plain": [
       "[1, 4, 9, 16, 25, 36, 49, 64, 81, 100]"
      ]
     },
     "execution_count": 12,
     "metadata": {},
     "output_type": "execute_result"
    }
   ],
   "source": [
    "new_list = [i*i for i in range(1,11)]\n",
    "new_list"
   ]
  },
  {
   "cell_type": "markdown",
   "metadata": {},
   "source": [
    "**Print a list containing the square of every odd number from 1 to 10**"
   ]
  },
  {
   "cell_type": "code",
   "execution_count": 57,
   "metadata": {},
   "outputs": [
    {
     "data": {
      "text/plain": [
       "[1, 9, 25, 49, 81]"
      ]
     },
     "execution_count": 57,
     "metadata": {},
     "output_type": "execute_result"
    }
   ],
   "source": [
    "new_list = [i*i for i in range(1,11,2)]\n",
    "new_list"
   ]
  },
  {
   "cell_type": "markdown",
   "metadata": {},
   "source": [
    "**Create a list with the squares of all multiples of 8 below 1000**"
   ]
  },
  {
   "cell_type": "code",
   "execution_count": 13,
   "metadata": {},
   "outputs": [
    {
     "data": {
      "text/plain": [
       "[64,\n",
       " 256,\n",
       " 576,\n",
       " 1024,\n",
       " 1600,\n",
       " 2304,\n",
       " 3136,\n",
       " 4096,\n",
       " 5184,\n",
       " 6400,\n",
       " 7744,\n",
       " 9216,\n",
       " 10816,\n",
       " 12544,\n",
       " 14400,\n",
       " 16384,\n",
       " 18496,\n",
       " 20736,\n",
       " 23104,\n",
       " 25600,\n",
       " 28224,\n",
       " 30976,\n",
       " 33856,\n",
       " 36864,\n",
       " 40000,\n",
       " 43264,\n",
       " 46656,\n",
       " 50176,\n",
       " 53824,\n",
       " 57600,\n",
       " 61504,\n",
       " 65536,\n",
       " 69696,\n",
       " 73984,\n",
       " 78400,\n",
       " 82944,\n",
       " 87616,\n",
       " 92416,\n",
       " 97344,\n",
       " 102400,\n",
       " 107584,\n",
       " 112896,\n",
       " 118336,\n",
       " 123904,\n",
       " 129600,\n",
       " 135424,\n",
       " 141376,\n",
       " 147456,\n",
       " 153664,\n",
       " 160000,\n",
       " 166464,\n",
       " 173056,\n",
       " 179776,\n",
       " 186624,\n",
       " 193600,\n",
       " 200704,\n",
       " 207936,\n",
       " 215296,\n",
       " 222784,\n",
       " 230400,\n",
       " 238144,\n",
       " 246016,\n",
       " 254016,\n",
       " 262144,\n",
       " 270400,\n",
       " 278784,\n",
       " 287296,\n",
       " 295936,\n",
       " 304704,\n",
       " 313600,\n",
       " 322624,\n",
       " 331776,\n",
       " 341056,\n",
       " 350464,\n",
       " 360000,\n",
       " 369664,\n",
       " 379456,\n",
       " 389376,\n",
       " 399424,\n",
       " 409600,\n",
       " 419904,\n",
       " 430336,\n",
       " 440896,\n",
       " 451584,\n",
       " 462400,\n",
       " 473344,\n",
       " 484416,\n",
       " 495616,\n",
       " 506944,\n",
       " 518400,\n",
       " 529984,\n",
       " 541696,\n",
       " 553536,\n",
       " 565504,\n",
       " 577600,\n",
       " 589824,\n",
       " 602176,\n",
       " 614656,\n",
       " 627264,\n",
       " 640000,\n",
       " 652864,\n",
       " 665856,\n",
       " 678976,\n",
       " 692224,\n",
       " 705600,\n",
       " 719104,\n",
       " 732736,\n",
       " 746496,\n",
       " 760384,\n",
       " 774400,\n",
       " 788544,\n",
       " 802816,\n",
       " 817216,\n",
       " 831744,\n",
       " 846400,\n",
       " 861184,\n",
       " 876096,\n",
       " 891136,\n",
       " 906304,\n",
       " 921600,\n",
       " 937024,\n",
       " 952576,\n",
       " 968256,\n",
       " 984064]"
      ]
     },
     "execution_count": 13,
     "metadata": {},
     "output_type": "execute_result"
    }
   ],
   "source": [
    "#**Create a list with the squares of all multiples of 8 below 1000**\n",
    "new_list = [i*i for i in range(8,1000,8)]\n",
    "new_list"
   ]
  },
  {
   "cell_type": "markdown",
   "metadata": {},
   "source": [
    "## People"
   ]
  },
  {
   "cell_type": "code",
   "execution_count": 4,
   "metadata": {},
   "outputs": [],
   "source": [
    "people = [\n",
    "    {\n",
    "        \"name\": \"Juan\",\n",
    "        \"age\": 34,\n",
    "        \"n_kids\": 2\n",
    "    },\n",
    "    {\n",
    "        \"name\": \"Pepe\",\n",
    "        \"age\": 27,\n",
    "        \"n_kids\": 0\n",
    "    },\n",
    "    {\n",
    "        \"name\": \"Sonia\",\n",
    "        \"age\": 41,\n",
    "        \"n_kids\": 1\n",
    "    },\n",
    "    {\n",
    "        \"name\": \"Lucía\",\n",
    "        \"age\": 22,\n",
    "        \"n_kids\": 2\n",
    "    },\n",
    "    {\n",
    "        \"name\": \"Leo\",\n",
    "        \"age\": 55,\n",
    "        \"n_kids\": 5\n",
    "    }\n",
    "]"
   ]
  },
  {
   "cell_type": "markdown",
   "metadata": {},
   "source": [
    "**How many people are there?**"
   ]
  },
  {
   "cell_type": "code",
   "execution_count": 14,
   "metadata": {},
   "outputs": [
    {
     "name": "stdout",
     "output_type": "stream",
     "text": [
      "There are 5 people\n"
     ]
    }
   ],
   "source": [
    "count_people = 0\n",
    "\n",
    "for i in people:\n",
    "    count_people += 1\n",
    "\n",
    "print(f\"There are {count_people} people\")\n",
    "    "
   ]
  },
  {
   "cell_type": "markdown",
   "metadata": {},
   "source": [
    "**How many people have kids**?"
   ]
  },
  {
   "cell_type": "code",
   "execution_count": 31,
   "metadata": {},
   "outputs": [
    {
     "name": "stdout",
     "output_type": "stream",
     "text": [
      "4 People have kids\n"
     ]
    }
   ],
   "source": [
    "count_kids=0\n",
    "for age in people:\n",
    "    if age[\"n_kids\"] != 0:\n",
    "        count_kids +=1\n",
    "print(f\"{count_kids} People have kids\")"
   ]
  },
  {
   "cell_type": "markdown",
   "metadata": {},
   "source": [
    "**How many kids do they have in total?**"
   ]
  },
  {
   "cell_type": "code",
   "execution_count": 34,
   "metadata": {},
   "outputs": [
    {
     "name": "stdout",
     "output_type": "stream",
     "text": [
      "They have in total 10 kids\n"
     ]
    }
   ],
   "source": [
    "kids=0\n",
    "for age in people:\n",
    "    if age[\"n_kids\"] != 0:\n",
    "        kids += int(age[\"n_kids\"])\n",
    "print(f\"They have in total {kids} kids\")"
   ]
  },
  {
   "cell_type": "markdown",
   "metadata": {},
   "source": [
    "**In a year's time, names ending with \"a\" will have an extra kid. Create a list of dictionaries with people's info in a year's time**"
   ]
  },
  {
   "cell_type": "code",
   "execution_count": 41,
   "metadata": {},
   "outputs": [
    {
     "name": "stdout",
     "output_type": "stream",
     "text": [
      "[{'name': 'Juan', 'age': 34, 'n_kids': 2}, {'name': 'Pepe', 'age': 27, 'n_kids': 0}, {'name': 'Sonia', 'age': 41, 'n_kids': 2}, {'name': 'Lucía', 'age': 22, 'n_kids': 3}, {'name': 'Leo', 'age': 55, 'n_kids': 5}]\n"
     ]
    }
   ],
   "source": [
    "people = [\n",
    "    {\n",
    "        \"name\": \"Juan\",\n",
    "        \"age\": 34,\n",
    "        \"n_kids\": 2\n",
    "    },\n",
    "    {\n",
    "        \"name\": \"Pepe\",\n",
    "        \"age\": 27,\n",
    "        \"n_kids\": 0\n",
    "    },\n",
    "    {\n",
    "        \"name\": \"Sonia\",\n",
    "        \"age\": 41,\n",
    "        \"n_kids\": 1\n",
    "    },\n",
    "    {\n",
    "        \"name\": \"Lucía\",\n",
    "        \"age\": 22,\n",
    "        \"n_kids\": 2\n",
    "    },\n",
    "    {\n",
    "        \"name\": \"Leo\",\n",
    "        \"age\": 55,\n",
    "        \"n_kids\": 5\n",
    "    }\n",
    "]\n",
    "kids=0\n",
    "for a in people:\n",
    "    if a[\"name\"].endswith(\"a\"):\n",
    "        a[\"n_kids\"] += 1\n",
    "\n",
    "print(people)\n",
    "        \n"
   ]
  },
  {
   "cell_type": "code",
   "execution_count": null,
   "metadata": {},
   "outputs": [],
   "source": []
  }
 ],
 "metadata": {
  "kernelspec": {
   "display_name": "Python 3",
   "language": "python",
   "name": "python3"
  },
  "language_info": {
   "codemirror_mode": {
    "name": "ipython",
    "version": 3
   },
   "file_extension": ".py",
   "mimetype": "text/x-python",
   "name": "python",
   "nbconvert_exporter": "python",
   "pygments_lexer": "ipython3",
   "version": "3.11.6"
  },
  "toc": {
   "base_numbering": 1,
   "nav_menu": {},
   "number_sections": false,
   "sideBar": true,
   "skip_h1_title": false,
   "title_cell": "Table of Contents",
   "title_sidebar": "Contents",
   "toc_cell": false,
   "toc_position": {},
   "toc_section_display": true,
   "toc_window_display": true
  },
  "varInspector": {
   "cols": {
    "lenName": 16,
    "lenType": 16,
    "lenVar": 40
   },
   "kernels_config": {
    "python": {
     "delete_cmd_postfix": "",
     "delete_cmd_prefix": "del ",
     "library": "var_list.py",
     "varRefreshCmd": "print(var_dic_list())"
    },
    "r": {
     "delete_cmd_postfix": ") ",
     "delete_cmd_prefix": "rm(",
     "library": "var_list.r",
     "varRefreshCmd": "cat(var_dic_list()) "
    }
   },
   "types_to_exclude": [
    "module",
    "function",
    "builtin_function_or_method",
    "instance",
    "_Feature"
   ],
   "window_display": false
  }
 },
 "nbformat": 4,
 "nbformat_minor": 4
}
