{
 "cells": [
  {
   "cell_type": "markdown",
   "metadata": {},
   "source": [
    "## Words"
   ]
  },
  {
   "cell_type": "code",
   "execution_count": 4,
   "metadata": {},
   "outputs": [],
   "source": [
    "words = ['play', 'filling', 'bar', 'theatre', 'easygoing', 'date', 'lead', 'that', 'story',  'island']"
   ]
  },
  {
   "cell_type": "markdown",
   "metadata": {},
   "source": [
    "**Print every word in upper case**"
   ]
  },
  {
   "cell_type": "code",
   "execution_count": 11,
   "metadata": {},
   "outputs": [
    {
     "data": {
      "text/plain": [
       "\"['PLAY', 'FILLING', 'BAR', 'THEATRE', 'EASYGOING', 'DATE', 'LEAD', 'THAT', 'STORY', 'ISLAND']\""
      ]
     },
     "execution_count": 11,
     "metadata": {},
     "output_type": "execute_result"
    }
   ],
   "source": [
    "# your code here\n",
    "str_words = str(words)\n",
    "str_words.upper()\n",
    "\n",
    "#not right because it changes to a string and can't go back"
   ]
  },
  {
   "cell_type": "code",
   "execution_count": 42,
   "metadata": {},
   "outputs": [
    {
     "name": "stdout",
     "output_type": "stream",
     "text": [
      "['PLAY', 'FILLING', 'BAR', 'THEATRE', 'EASYGOING', 'DATE', 'LEAD', 'THAT', 'STORY', 'ISLAND']\n"
     ]
    }
   ],
   "source": [
    "new_list =[]\n",
    "\n",
    "for i in words:\n",
    "    new_list.append(i.upper())\n",
    "    \n",
    "print(new_list)\n",
    "    "
   ]
  },
  {
   "cell_type": "code",
   "execution_count": 43,
   "metadata": {},
   "outputs": [
    {
     "data": {
      "text/plain": [
       "['PLAY',\n",
       " 'FILLING',\n",
       " 'BAR',\n",
       " 'THEATRE',\n",
       " 'EASYGOING',\n",
       " 'DATE',\n",
       " 'LEAD',\n",
       " 'THAT',\n",
       " 'STORY',\n",
       " 'ISLAND']"
      ]
     },
     "execution_count": 43,
     "metadata": {},
     "output_type": "execute_result"
    }
   ],
   "source": [
    "new_list = [i.upper() for i in words]\n",
    "new_list"
   ]
  },
  {
   "cell_type": "markdown",
   "metadata": {},
   "source": [
    "**Create a new list containing only words with 5 or more letters**"
   ]
  },
  {
   "cell_type": "code",
   "execution_count": 14,
   "metadata": {},
   "outputs": [
    {
     "name": "stdout",
     "output_type": "stream",
     "text": [
      "['play', 'filling', 'bar', 'theatre', 'easygoing', 'date', 'lead', 'that', 'story', 'island']\n"
     ]
    }
   ],
   "source": [
    "# your code here\n",
    "\n",
    "new_list = []\n",
    "\n",
    "for i in words:\n",
    "    if len(words) >= 5:\n",
    "        #print(i)\n",
    "        new_list.append(i)\n",
    "        \n",
    "print(new_list)\n",
    "    \n",
    "#maybe 'bar' is conting with the '' so it's 5, correct?"
   ]
  },
  {
   "cell_type": "markdown",
   "metadata": {},
   "source": [
    "**Print the first word starting with \"t\"**"
   ]
  },
  {
   "cell_type": "code",
   "execution_count": 19,
   "metadata": {},
   "outputs": [
    {
     "name": "stdout",
     "output_type": "stream",
     "text": [
      "theatre\n"
     ]
    }
   ],
   "source": [
    "# your code here\n",
    "\n",
    "for i in words:\n",
    "    string = str(i)\n",
    "    if string.startswith(\"t\"):\n",
    "        print(i)\n",
    "        break\n"
   ]
  },
  {
   "cell_type": "markdown",
   "metadata": {},
   "source": [
    "## Numbers"
   ]
  },
  {
   "cell_type": "markdown",
   "metadata": {},
   "source": [
    "**Create a list containing the square of every number from 1 to 10**"
   ]
  },
  {
   "cell_type": "code",
   "execution_count": 31,
   "metadata": {},
   "outputs": [
    {
     "name": "stdout",
     "output_type": "stream",
     "text": [
      "[1.0, 4.0, 9.0, 16.0, 25.0, 36.0, 49.0, 64.0, 81.0, 100.0]\n"
     ]
    }
   ],
   "source": [
    "# your code here\n",
    "import math\n",
    "square_list = []\n",
    "\n",
    "for i in range(1,11):\n",
    "    value = math.pow(i,2)\n",
    "    square_list.append(value)\n",
    "    \n",
    "print(square_list)\n",
    "    "
   ]
  },
  {
   "cell_type": "markdown",
   "metadata": {},
   "source": [
    "**Print a list containing the square of every odd number from 1 to 10**"
   ]
  },
  {
   "cell_type": "code",
   "execution_count": 32,
   "metadata": {},
   "outputs": [
    {
     "name": "stdout",
     "output_type": "stream",
     "text": [
      "[1.0, 9.0, 25.0, 49.0, 81.0]\n"
     ]
    }
   ],
   "source": [
    "# your code here\n",
    "\n",
    "odd_square_list = []\n",
    "\n",
    "for i in range(1,11):\n",
    "    value = math.pow(i,2)\n",
    "    is_odd = value % 2\n",
    "    if is_odd != 0:\n",
    "        odd_square_list.append(value)\n",
    "        \n",
    "print(odd_square_list)\n",
    "        "
   ]
  },
  {
   "cell_type": "markdown",
   "metadata": {},
   "source": [
    "**Create a list with the squares of all multiples of 8 below 1000**"
   ]
  },
  {
   "cell_type": "code",
   "execution_count": 35,
   "metadata": {},
   "outputs": [
    {
     "name": "stdout",
     "output_type": "stream",
     "text": [
      "[0.0, 16.0, 64.0, 144.0, 256.0, 400.0, 576.0, 784.0, 1024.0, 1296.0, 1600.0, 1936.0, 2304.0, 2704.0, 3136.0, 3600.0, 4096.0, 4624.0, 5184.0, 5776.0, 6400.0, 7056.0, 7744.0, 8464.0, 9216.0, 10000.0, 10816.0, 11664.0, 12544.0, 13456.0, 14400.0, 15376.0, 16384.0, 17424.0, 18496.0, 19600.0, 20736.0, 21904.0, 23104.0, 24336.0, 25600.0, 26896.0, 28224.0, 29584.0, 30976.0, 32400.0, 33856.0, 35344.0, 36864.0, 38416.0, 40000.0, 41616.0, 43264.0, 44944.0, 46656.0, 48400.0, 50176.0, 51984.0, 53824.0, 55696.0, 57600.0, 59536.0, 61504.0, 63504.0, 65536.0, 67600.0, 69696.0, 71824.0, 73984.0, 76176.0, 78400.0, 80656.0, 82944.0, 85264.0, 87616.0, 90000.0, 92416.0, 94864.0, 97344.0, 99856.0, 102400.0, 104976.0, 107584.0, 110224.0, 112896.0, 115600.0, 118336.0, 121104.0, 123904.0, 126736.0, 129600.0, 132496.0, 135424.0, 138384.0, 141376.0, 144400.0, 147456.0, 150544.0, 153664.0, 156816.0, 160000.0, 163216.0, 166464.0, 169744.0, 173056.0, 176400.0, 179776.0, 183184.0, 186624.0, 190096.0, 193600.0, 197136.0, 200704.0, 204304.0, 207936.0, 211600.0, 215296.0, 219024.0, 222784.0, 226576.0, 230400.0, 234256.0, 238144.0, 242064.0, 246016.0, 250000.0, 254016.0, 258064.0, 262144.0, 266256.0, 270400.0, 274576.0, 278784.0, 283024.0, 287296.0, 291600.0, 295936.0, 300304.0, 304704.0, 309136.0, 313600.0, 318096.0, 322624.0, 327184.0, 331776.0, 336400.0, 341056.0, 345744.0, 350464.0, 355216.0, 360000.0, 364816.0, 369664.0, 374544.0, 379456.0, 384400.0, 389376.0, 394384.0, 399424.0, 404496.0, 409600.0, 414736.0, 419904.0, 425104.0, 430336.0, 435600.0, 440896.0, 446224.0, 451584.0, 456976.0, 462400.0, 467856.0, 473344.0, 478864.0, 484416.0, 490000.0, 495616.0, 501264.0, 506944.0, 512656.0, 518400.0, 524176.0, 529984.0, 535824.0, 541696.0, 547600.0, 553536.0, 559504.0, 565504.0, 571536.0, 577600.0, 583696.0, 589824.0, 595984.0, 602176.0, 608400.0, 614656.0, 620944.0, 627264.0, 633616.0, 640000.0, 646416.0, 652864.0, 659344.0, 665856.0, 672400.0, 678976.0, 685584.0, 692224.0, 698896.0, 705600.0, 712336.0, 719104.0, 725904.0, 732736.0, 739600.0, 746496.0, 753424.0, 760384.0, 767376.0, 774400.0, 781456.0, 788544.0, 795664.0, 802816.0, 810000.0, 817216.0, 824464.0, 831744.0, 839056.0, 846400.0, 853776.0, 861184.0, 868624.0, 876096.0, 883600.0, 891136.0, 898704.0, 906304.0, 913936.0, 921600.0, 929296.0, 937024.0, 944784.0, 952576.0, 960400.0, 968256.0, 976144.0, 984064.0, 992016.0]\n"
     ]
    }
   ],
   "source": [
    "# your code here\n",
    "\n",
    "multiples_8 = []\n",
    "\n",
    "for i in range(0,1000):\n",
    "    value = math.pow(i,2)\n",
    "    is_multiple_8 = value % 8\n",
    "    if is_multiple_8 == 0:\n",
    "        multiples_8.append(value)\n",
    "        \n",
    "print(multiples_8)"
   ]
  },
  {
   "cell_type": "markdown",
   "metadata": {},
   "source": [
    "## People"
   ]
  },
  {
   "cell_type": "code",
   "execution_count": 37,
   "metadata": {},
   "outputs": [],
   "source": [
    "people = [\n",
    "    {\n",
    "        \"name\": \"Juan\",\n",
    "        \"age\": 34,\n",
    "        \"n_kids\": 2\n",
    "    },\n",
    "    {\n",
    "        \"name\": \"Pepe\",\n",
    "        \"age\": 27,\n",
    "        \"n_kids\": 0\n",
    "    },\n",
    "    {\n",
    "        \"name\": \"Sonia\",\n",
    "        \"age\": 41,\n",
    "        \"n_kids\": 1\n",
    "    },\n",
    "    {\n",
    "        \"name\": \"Lucía\",\n",
    "        \"age\": 22,\n",
    "        \"n_kids\": 2\n",
    "    },\n",
    "    {\n",
    "        \"name\": \"Leo\",\n",
    "        \"age\": 55,\n",
    "        \"n_kids\": 5\n",
    "    }\n",
    "]"
   ]
  },
  {
   "cell_type": "markdown",
   "metadata": {},
   "source": [
    "**How many people are there?**"
   ]
  },
  {
   "cell_type": "code",
   "execution_count": 38,
   "metadata": {},
   "outputs": [
    {
     "name": "stdout",
     "output_type": "stream",
     "text": [
      "5\n"
     ]
    }
   ],
   "source": [
    "# your code here\n",
    "\n",
    "print(len(people))\n"
   ]
  },
  {
   "cell_type": "markdown",
   "metadata": {},
   "source": [
    "**How many people have kids**?"
   ]
  },
  {
   "cell_type": "code",
   "execution_count": 51,
   "metadata": {},
   "outputs": [
    {
     "name": "stdout",
     "output_type": "stream",
     "text": [
      "4\n"
     ]
    }
   ],
   "source": [
    "# your code here\n",
    "\n",
    "counter = 0\n",
    "\n",
    "for i in people:\n",
    "    if i[\"n_kids\"] != 0:\n",
    "        counter += 1\n",
    "print(counter)\n",
    "  "
   ]
  },
  {
   "cell_type": "markdown",
   "metadata": {},
   "source": [
    "**How many kids do they have in total?**"
   ]
  },
  {
   "cell_type": "code",
   "execution_count": 55,
   "metadata": {},
   "outputs": [
    {
     "data": {
      "text/plain": [
       "10"
      ]
     },
     "execution_count": 55,
     "metadata": {},
     "output_type": "execute_result"
    }
   ],
   "source": [
    "# your code here\n",
    "\n",
    "sum_kids = 0\n",
    "\n",
    "for i in people:\n",
    "    sum_kids += i[\"n_kids\"]\n",
    "sum_kids"
   ]
  },
  {
   "cell_type": "markdown",
   "metadata": {},
   "source": [
    "**In a year's time, names ending with \"a\" will have an extra kid. Create a list of dictionaries with people's info in a year's time**"
   ]
  },
  {
   "cell_type": "code",
   "execution_count": 68,
   "metadata": {},
   "outputs": [
    {
     "name": "stdout",
     "output_type": "stream",
     "text": [
      "{'name': 'Lucía', 'age': 22, 'n_kids': 7}\n"
     ]
    }
   ],
   "source": [
    "# your code here\n",
    "\n",
    "new_list = {}\n",
    "\n",
    "for i in people:\n",
    "    if i[\"name\"].endswith(\"a\"):\n",
    "        i[\"n_kids\"] += 1\n",
    "        new_list.update(i)\n",
    "print(new_list)\n",
    "        "
   ]
  }
 ],
 "metadata": {
  "kernelspec": {
   "display_name": "Python 3 (ipykernel)",
   "language": "python",
   "name": "python3"
  },
  "language_info": {
   "codemirror_mode": {
    "name": "ipython",
    "version": 3
   },
   "file_extension": ".py",
   "mimetype": "text/x-python",
   "name": "python",
   "nbconvert_exporter": "python",
   "pygments_lexer": "ipython3",
   "version": "3.11.4"
  },
  "toc": {
   "base_numbering": 1,
   "nav_menu": {},
   "number_sections": false,
   "sideBar": true,
   "skip_h1_title": false,
   "title_cell": "Table of Contents",
   "title_sidebar": "Contents",
   "toc_cell": false,
   "toc_position": {},
   "toc_section_display": true,
   "toc_window_display": true
  },
  "varInspector": {
   "cols": {
    "lenName": 16,
    "lenType": 16,
    "lenVar": 40
   },
   "kernels_config": {
    "python": {
     "delete_cmd_postfix": "",
     "delete_cmd_prefix": "del ",
     "library": "var_list.py",
     "varRefreshCmd": "print(var_dic_list())"
    },
    "r": {
     "delete_cmd_postfix": ") ",
     "delete_cmd_prefix": "rm(",
     "library": "var_list.r",
     "varRefreshCmd": "cat(var_dic_list()) "
    }
   },
   "types_to_exclude": [
    "module",
    "function",
    "builtin_function_or_method",
    "instance",
    "_Feature"
   ],
   "window_display": false
  }
 },
 "nbformat": 4,
 "nbformat_minor": 4
}
