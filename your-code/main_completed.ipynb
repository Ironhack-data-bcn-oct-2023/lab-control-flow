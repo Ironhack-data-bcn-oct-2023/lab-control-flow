{
  "cells": [
    {
      "cell_type": "markdown",
      "metadata": {
        "id": "8stV_Eq2iUW0"
      },
      "source": [
        "## Words"
      ]
    },
    {
      "cell_type": "code",
      "execution_count": null,
      "metadata": {
        "id": "SAoNPNp0iUW2"
      },
      "outputs": [],
      "source": [
        "words = ['play', 'filling', 'bar', 'theatre', 'easygoing', 'date', 'lead', 'that', 'story',  'island']"
      ]
    },
    {
      "cell_type": "markdown",
      "metadata": {
        "id": "cA5RnMm3iUW3"
      },
      "source": [
        "**Print every word in upper case**"
      ]
    },
    {
      "cell_type": "code",
      "execution_count": 15,
      "metadata": {
        "colab": {
          "base_uri": "https://localhost:8080/"
        },
        "id": "5Liau6aSiUW3",
        "outputId": "d60c848a-ba29-448e-8c0b-b7079992fcda"
      },
      "outputs": [
        {
          "output_type": "stream",
          "name": "stdout",
          "text": [
            "PLAY\n",
            "FILLING\n",
            "BAR\n",
            "THEATRE\n",
            "EASYGOING\n",
            "DATE\n",
            "LEAD\n",
            "THAT\n",
            "STORY\n",
            "ISLAND\n"
          ]
        }
      ],
      "source": [
        "words = ['play', 'filling', 'bar', 'theatre', 'easygoing', 'date', 'lead', 'that', 'story',  'island']\n",
        "\n",
        "for words in words:\n",
        "  print(words.upper())"
      ]
    },
    {
      "cell_type": "markdown",
      "metadata": {
        "id": "DfBQKEqoiUW3"
      },
      "source": [
        "**Create a new list containing only words with 5 or more letters**"
      ]
    },
    {
      "cell_type": "code",
      "execution_count": 21,
      "metadata": {
        "colab": {
          "base_uri": "https://localhost:8080/"
        },
        "id": "u14743q_iUW3",
        "outputId": "1f0b80e7-c79d-4704-fe62-3b35bdbe564e"
      },
      "outputs": [
        {
          "output_type": "stream",
          "name": "stdout",
          "text": [
            "['play', 'filling', 'bar', 'theatre', 'easygoing', 'date', 'lead', 'that', 'story', 'island']\n"
          ]
        }
      ],
      "source": [
        "words = ['play', 'filling', 'bar', 'theatre', 'easygoing', 'date', 'lead', 'that', 'story',  'island']\n",
        "\n",
        "new_words = [word for word in words if len(word) >= 5]\n",
        "\n",
        "print(words)\n"
      ]
    },
    {
      "cell_type": "markdown",
      "metadata": {
        "id": "HTVBKfLdiUW4"
      },
      "source": [
        "**Print the first word starting with \"t\"**"
      ]
    },
    {
      "cell_type": "code",
      "execution_count": 26,
      "metadata": {
        "colab": {
          "base_uri": "https://localhost:8080/"
        },
        "id": "RFa-bNC0iUW4",
        "outputId": "5478c118-a936-456c-e3b7-e6ac0c033852"
      },
      "outputs": [
        {
          "output_type": "stream",
          "name": "stdout",
          "text": [
            "The first word starting by t is theatre\n"
          ]
        }
      ],
      "source": [
        "words = ['play', 'filling', 'bar', 'theatre', 'easygoing', 'date', 'lead', 'that', 'story',  'island']\n",
        "\n",
        "for word in words:\n",
        "  if word.startswith('t'):\n",
        "    print(\"The first word starting by t is\", word)\n",
        "    break"
      ]
    },
    {
      "cell_type": "markdown",
      "metadata": {
        "id": "ZN-KH6y7iUW4"
      },
      "source": [
        "## Numbers"
      ]
    },
    {
      "cell_type": "markdown",
      "metadata": {
        "id": "AlLCtOociUW4"
      },
      "source": [
        "**Create a list containing the square of every number from 1 to 10**"
      ]
    },
    {
      "cell_type": "code",
      "execution_count": 37,
      "metadata": {
        "colab": {
          "base_uri": "https://localhost:8080/"
        },
        "id": "51pxui_3iUW4",
        "outputId": "94e959fc-77b0-49ab-eaad-2fc0d1e11029"
      },
      "outputs": [
        {
          "output_type": "execute_result",
          "data": {
            "text/plain": [
              "[1, 4, 9, 16, 25, 36, 49, 64, 81, 100]"
            ]
          },
          "metadata": {},
          "execution_count": 37
        }
      ],
      "source": [
        "square_numbers = []\n",
        "\n",
        "for i in range(1,11):\n",
        "  square_numbers.append(i**2)\n",
        "\n",
        "square_numbers\n"
      ]
    },
    {
      "cell_type": "markdown",
      "metadata": {
        "id": "GZtBZMQbiUW5"
      },
      "source": [
        "**Print a list containing the square of every odd number from 1 to 10**"
      ]
    },
    {
      "cell_type": "code",
      "execution_count": 39,
      "metadata": {
        "colab": {
          "base_uri": "https://localhost:8080/"
        },
        "id": "6JQNvNLdiUW5",
        "outputId": "14e86cf4-63bd-4c9a-b07d-a934dea94759"
      },
      "outputs": [
        {
          "output_type": "execute_result",
          "data": {
            "text/plain": [
              "[1, 9, 25, 49, 81]"
            ]
          },
          "metadata": {},
          "execution_count": 39
        }
      ],
      "source": [
        "square_numbers = []\n",
        "\n",
        "\n",
        "for i in range(1,11):\n",
        "  if i %2 != 0:\n",
        "    square_numbers.append(i**2)\n",
        "\n",
        "square_numbers"
      ]
    },
    {
      "cell_type": "markdown",
      "metadata": {
        "id": "HnGOmTN8iUW5"
      },
      "source": [
        "**Create a list with the squares of all multiples of 8 below 1000**"
      ]
    },
    {
      "cell_type": "code",
      "execution_count": 44,
      "metadata": {
        "colab": {
          "base_uri": "https://localhost:8080/"
        },
        "id": "A3YfhjyniUW5",
        "outputId": "5f1f7ddf-dc25-4dce-9b98-c5395897aff0"
      },
      "outputs": [
        {
          "output_type": "execute_result",
          "data": {
            "text/plain": [
              "[1,\n",
              " 81,\n",
              " 289,\n",
              " 625,\n",
              " 1089,\n",
              " 1681,\n",
              " 2401,\n",
              " 3249,\n",
              " 4225,\n",
              " 5329,\n",
              " 6561,\n",
              " 7921,\n",
              " 9409,\n",
              " 11025,\n",
              " 12769,\n",
              " 14641,\n",
              " 16641,\n",
              " 18769,\n",
              " 21025,\n",
              " 23409,\n",
              " 25921,\n",
              " 28561,\n",
              " 31329,\n",
              " 34225,\n",
              " 37249,\n",
              " 40401,\n",
              " 43681,\n",
              " 47089,\n",
              " 50625,\n",
              " 54289,\n",
              " 58081,\n",
              " 62001,\n",
              " 66049,\n",
              " 70225,\n",
              " 74529,\n",
              " 78961,\n",
              " 83521,\n",
              " 88209,\n",
              " 93025,\n",
              " 97969,\n",
              " 103041,\n",
              " 108241,\n",
              " 113569,\n",
              " 119025,\n",
              " 124609,\n",
              " 130321,\n",
              " 136161,\n",
              " 142129,\n",
              " 148225,\n",
              " 154449,\n",
              " 160801,\n",
              " 167281,\n",
              " 173889,\n",
              " 180625,\n",
              " 187489,\n",
              " 194481,\n",
              " 201601,\n",
              " 208849,\n",
              " 216225,\n",
              " 223729,\n",
              " 231361,\n",
              " 239121,\n",
              " 247009,\n",
              " 255025,\n",
              " 263169,\n",
              " 271441,\n",
              " 279841,\n",
              " 288369,\n",
              " 297025,\n",
              " 305809,\n",
              " 314721,\n",
              " 323761,\n",
              " 332929,\n",
              " 342225,\n",
              " 351649,\n",
              " 361201,\n",
              " 370881,\n",
              " 380689,\n",
              " 390625,\n",
              " 400689,\n",
              " 410881,\n",
              " 421201,\n",
              " 431649,\n",
              " 442225,\n",
              " 452929,\n",
              " 463761,\n",
              " 474721,\n",
              " 485809,\n",
              " 497025,\n",
              " 508369,\n",
              " 519841,\n",
              " 531441,\n",
              " 543169,\n",
              " 555025,\n",
              " 567009,\n",
              " 579121,\n",
              " 591361,\n",
              " 603729,\n",
              " 616225,\n",
              " 628849,\n",
              " 641601,\n",
              " 654481,\n",
              " 667489,\n",
              " 680625,\n",
              " 693889,\n",
              " 707281,\n",
              " 720801,\n",
              " 734449,\n",
              " 748225,\n",
              " 762129,\n",
              " 776161,\n",
              " 790321,\n",
              " 804609,\n",
              " 819025,\n",
              " 833569,\n",
              " 848241,\n",
              " 863041,\n",
              " 877969,\n",
              " 893025,\n",
              " 908209,\n",
              " 923521,\n",
              " 938961,\n",
              " 954529,\n",
              " 970225,\n",
              " 986049]"
            ]
          },
          "metadata": {},
          "execution_count": 44
        }
      ],
      "source": [
        "list_x = []\n",
        "\n",
        "for i in range(1,1000,8):\n",
        "  if i %2 != 0:\n",
        "    list_x.append(i**2)\n",
        "\n",
        "list_x"
      ]
    },
    {
      "cell_type": "markdown",
      "metadata": {
        "id": "CnPwDjRMiUW5"
      },
      "source": [
        "## People"
      ]
    },
    {
      "cell_type": "code",
      "execution_count": null,
      "metadata": {
        "id": "OMfT6GymiUW5"
      },
      "outputs": [],
      "source": [
        "people = [\n",
        "    {\n",
        "        \"name\": \"Juan\",\n",
        "        \"age\": 34,\n",
        "        \"n_kids\": 2\n",
        "    },\n",
        "    {\n",
        "        \"name\": \"Pepe\",\n",
        "        \"age\": 27,\n",
        "        \"n_kids\": 0\n",
        "    },\n",
        "    {\n",
        "        \"name\": \"Sonia\",\n",
        "        \"age\": 41,\n",
        "        \"n_kids\": 1\n",
        "    },\n",
        "    {\n",
        "        \"name\": \"Lucía\",\n",
        "        \"age\": 22,\n",
        "        \"n_kids\": 2\n",
        "    },\n",
        "    {\n",
        "        \"name\": \"Leo\",\n",
        "        \"age\": 55,\n",
        "        \"n_kids\": 5\n",
        "    }\n",
        "]"
      ]
    },
    {
      "cell_type": "markdown",
      "metadata": {
        "id": "niq_SbjIiUW6"
      },
      "source": [
        "**How many people are there?**"
      ]
    },
    {
      "cell_type": "code",
      "execution_count": 51,
      "metadata": {
        "colab": {
          "base_uri": "https://localhost:8080/"
        },
        "id": "puJoHxFtiUW6",
        "outputId": "1f1172eb-32d9-4509-9766-8cae61ef5c8e"
      },
      "outputs": [
        {
          "output_type": "execute_result",
          "data": {
            "text/plain": [
              "5"
            ]
          },
          "metadata": {},
          "execution_count": 51
        }
      ],
      "source": [
        "people = [\n",
        "    {\n",
        "        \"name\": \"Juan\",\n",
        "        \"age\": 34,\n",
        "        \"n_kids\": 2\n",
        "    },\n",
        "    {\n",
        "        \"name\": \"Pepe\",\n",
        "        \"age\": 27,\n",
        "        \"n_kids\": 0\n",
        "    },\n",
        "    {\n",
        "        \"name\": \"Sonia\",\n",
        "        \"age\": 41,\n",
        "        \"n_kids\": 1\n",
        "    },\n",
        "    {\n",
        "        \"name\": \"Lucía\",\n",
        "        \"age\": 22,\n",
        "        \"n_kids\": 2\n",
        "    },\n",
        "    {\n",
        "        \"name\": \"Leo\",\n",
        "        \"age\": 55,\n",
        "        \"n_kids\": 5\n",
        "    }\n",
        "]\n",
        "\n",
        "len(people)"
      ]
    },
    {
      "cell_type": "markdown",
      "metadata": {
        "id": "j9med5XxiUW6"
      },
      "source": [
        "**How many people have kids**?"
      ]
    },
    {
      "cell_type": "code",
      "execution_count": 55,
      "metadata": {
        "colab": {
          "base_uri": "https://localhost:8080/"
        },
        "id": "W-qrK-wAiUW6",
        "outputId": "04c8056a-c964-4762-aba2-8747b48590c0"
      },
      "outputs": [
        {
          "output_type": "execute_result",
          "data": {
            "text/plain": [
              "4"
            ]
          },
          "metadata": {},
          "execution_count": 55
        }
      ],
      "source": [
        "people = [\n",
        "    {\n",
        "        \"name\": \"Juan\",\n",
        "        \"age\": 34,\n",
        "        \"n_kids\": 2\n",
        "    },\n",
        "    {\n",
        "        \"name\": \"Pepe\",\n",
        "        \"age\": 27,\n",
        "        \"n_kids\": 0\n",
        "    },\n",
        "    {\n",
        "        \"name\": \"Sonia\",\n",
        "        \"age\": 41,\n",
        "        \"n_kids\": 1\n",
        "    },\n",
        "    {\n",
        "        \"name\": \"Lucía\",\n",
        "        \"age\": 22,\n",
        "        \"n_kids\": 2\n",
        "    },\n",
        "    {\n",
        "        \"name\": \"Leo\",\n",
        "        \"age\": 55,\n",
        "        \"n_kids\": 5\n",
        "    }\n",
        "]\n",
        "\n",
        "x = 0\n",
        "\n",
        "for i in people:\n",
        "   if i[\"n_kids\"] >= 1:\n",
        "    x = x + 1\n",
        "\n",
        "x\n"
      ]
    },
    {
      "cell_type": "markdown",
      "metadata": {
        "id": "heNhLd0riUW7"
      },
      "source": [
        "**How many kids do they have in total?**"
      ]
    },
    {
      "cell_type": "code",
      "execution_count": 62,
      "metadata": {
        "colab": {
          "base_uri": "https://localhost:8080/"
        },
        "id": "3SW449PYiUW7",
        "outputId": "f766ae21-ac63-4514-f307-02ea47c88581"
      },
      "outputs": [
        {
          "output_type": "execute_result",
          "data": {
            "text/plain": [
              "10"
            ]
          },
          "metadata": {},
          "execution_count": 62
        }
      ],
      "source": [
        "x = 0\n",
        "\n",
        "people = [\n",
        "    {\n",
        "        \"name\": \"Juan\",\n",
        "        \"age\": 34,\n",
        "        \"n_kids\": 2\n",
        "    },\n",
        "    {\n",
        "        \"name\": \"Pepe\",\n",
        "        \"age\": 27,\n",
        "        \"n_kids\": 0\n",
        "    },\n",
        "    {\n",
        "        \"name\": \"Sonia\",\n",
        "        \"age\": 41,\n",
        "        \"n_kids\": 1\n",
        "    },\n",
        "    {\n",
        "        \"name\": \"Lucía\",\n",
        "        \"age\": 22,\n",
        "        \"n_kids\": 2\n",
        "    },\n",
        "    {\n",
        "        \"name\": \"Leo\",\n",
        "        \"age\": 55,\n",
        "        \"n_kids\": 5\n",
        "    }\n",
        "]\n",
        "\n",
        "for i in people:\n",
        "  x = x + i[\"n_kids\"]\n",
        "\n",
        "x\n"
      ]
    },
    {
      "cell_type": "markdown",
      "metadata": {
        "id": "fUIAt29UiUW7"
      },
      "source": [
        "**In a year's time, names ending with \"a\" will have an extra kid. Create a list of dictionaries with people's info in a year's time**"
      ]
    },
    {
      "cell_type": "code",
      "execution_count": 73,
      "metadata": {
        "colab": {
          "base_uri": "https://localhost:8080/"
        },
        "id": "RGtuH0sCiUW7",
        "outputId": "2b0c1f56-cb5d-4714-e579-afd7099ec7dc"
      },
      "outputs": [
        {
          "output_type": "execute_result",
          "data": {
            "text/plain": [
              "[{'name': 'Juan', 'age': 35, 'n_kids': 2},\n",
              " {'name': 'Pepe', 'age': 28, 'n_kids': 0},\n",
              " {'name': 'Sonia', 'age': 42, 'n_kids': 2},\n",
              " {'name': 'Lucía', 'age': 23, 'n_kids': 3},\n",
              " {'name': 'Leo', 'age': 56, 'n_kids': 5}]"
            ]
          },
          "metadata": {},
          "execution_count": 73
        }
      ],
      "source": [
        "x = 0\n",
        "\n",
        "dict_year = []\n",
        "\n",
        "people = [\n",
        "    {\n",
        "        \"name\": \"Juan\",\n",
        "        \"age\": 34,\n",
        "        \"n_kids\": 2\n",
        "    },\n",
        "    {\n",
        "        \"name\": \"Pepe\",\n",
        "        \"age\": 27,\n",
        "        \"n_kids\": 0\n",
        "    },\n",
        "    {\n",
        "        \"name\": \"Sonia\",\n",
        "        \"age\": 41,\n",
        "        \"n_kids\": 1\n",
        "    },\n",
        "    {\n",
        "        \"name\": \"Lucía\",\n",
        "        \"age\": 22,\n",
        "        \"n_kids\": 2\n",
        "    },\n",
        "    {\n",
        "        \"name\": \"Leo\",\n",
        "        \"age\": 55,\n",
        "        \"n_kids\": 5\n",
        "    }\n",
        "]\n",
        "\n",
        "for i in people:\n",
        "  if i[\"name\"].endswith(\"a\"):\n",
        "    i[\"n_kids\"] = i[\"n_kids\"] + 1\n",
        "\n",
        "\n",
        "for i in people:\n",
        "  i[\"age\"] = i[\"age\"] +1\n",
        "\n",
        "people\n"
      ]
    }
  ],
  "metadata": {
    "kernelspec": {
      "display_name": "Python 3",
      "language": "python",
      "name": "python3"
    },
    "language_info": {
      "codemirror_mode": {
        "name": "ipython",
        "version": 3
      },
      "file_extension": ".py",
      "mimetype": "text/x-python",
      "name": "python",
      "nbconvert_exporter": "python",
      "pygments_lexer": "ipython3",
      "version": "3.8.5"
    },
    "toc": {
      "base_numbering": 1,
      "nav_menu": {},
      "number_sections": false,
      "sideBar": true,
      "skip_h1_title": false,
      "title_cell": "Table of Contents",
      "title_sidebar": "Contents",
      "toc_cell": false,
      "toc_position": {},
      "toc_section_display": true,
      "toc_window_display": true
    },
    "varInspector": {
      "cols": {
        "lenName": 16,
        "lenType": 16,
        "lenVar": 40
      },
      "kernels_config": {
        "python": {
          "delete_cmd_postfix": "",
          "delete_cmd_prefix": "del ",
          "library": "var_list.py",
          "varRefreshCmd": "print(var_dic_list())"
        },
        "r": {
          "delete_cmd_postfix": ") ",
          "delete_cmd_prefix": "rm(",
          "library": "var_list.r",
          "varRefreshCmd": "cat(var_dic_list()) "
        }
      },
      "types_to_exclude": [
        "module",
        "function",
        "builtin_function_or_method",
        "instance",
        "_Feature"
      ],
      "window_display": false
    },
    "colab": {
      "provenance": []
    }
  },
  "nbformat": 4,
  "nbformat_minor": 0
}